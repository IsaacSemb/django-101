{
 "cells": [
  {
   "cell_type": "code",
   "execution_count": null,
   "metadata": {
    "vscode": {
     "languageId": "plaintext"
    }
   },
   "outputs": [],
   "source": [
    "19/03/2025 00:00\n",
    "\n",
    "\n",
    "\n",
    "\n",
    "Here’s a cleaned-up and more structured version of your dictated notes:\n",
    "\n",
    "---\n",
    "\n",
    "### **Django Learning Project - March 19, 2025**\n",
    "\n",
    "#### **Project Concept**\n",
    "Today, I decided that the best way to learn Django is by building a project that requires only a single model. The model I’ve chosen will deal with people or users. However, I will limit the scope of \"people\" because Django already includes built-in models for end users, which can make things more complex. \n",
    "\n",
    "Instead, I’ll create a custom model with a few unique attributes. Each record in the table will have at least four attributes, which will allow me to experiment with Django’s features for data manipulation.\n",
    "\n",
    "#### **Documenting the Process**\n",
    "I’ve been advised that documenting my learning journey will be beneficial. To facilitate this, I plan to log my progress daily and store these logs in a **Jupyter Notebook**. Each log entry will represent a day's work, and over time, I might transform these logs into blog posts if I decide to create a blog.\n",
    "\n",
    "#### **Project Setup**\n",
    "Here's what I’ve done so far:\n",
    "\n",
    "1. **Created a Documentation Folder**  \n",
    "   - I set up a `docs/` folder to store all documentation related to the project.  \n",
    "   - Inside this folder:\n",
    "     - A **CLI Shortcuts** file will contain useful command-line shortcuts encountered during development.  \n",
    "     - A **Logging Folder** will hold daily logs of my progress, which I’ll document primarily through dictation and later refine.\n",
    "\n",
    "2. **Set Up the Development Environment**  \n",
    "   - Created a **virtual environment** using `pip` (instead of using a `Pipfile`).  \n",
    "   - Installed Django within this environment.  \n",
    "   - Used `pip freeze` to generate a `requirements.txt` file, ensuring that all dependencies are properly documented.\n",
    "\n",
    "3. **Initialized the Django Project**  \n",
    "   - After setting up the environment, I initialized a new Django project.  \n",
    "   - However, I later realized that I need to **refactor the project structure** so that all documentation and project files are well-organized.\n",
    "\n",
    "4. **Refactoring Considerations**  \n",
    "   - I want my terminal to start in the correct directory where `manage.py` is located, avoiding unnecessary navigation (`cd` commands) every time I open the terminal.  \n",
    "   - To achieve this, I might configure **VS Code’s `launch.json` settings** to automatically set the working directory to the correct location.  \n",
    "   - I will research more on how to properly configure this in the CLI.\n",
    "\n",
    "---\n",
    "\n",
    "This version keeps all your points but makes them more structured and readable. Let me know if you need any modifications! 🚀"
   ]
  },
  {
   "cell_type": "code",
   "execution_count": null,
   "metadata": {
    "vscode": {
     "languageId": "plaintext"
    }
   },
   "outputs": [],
   "source": [
    "19/03/2025 00:15\n",
    "\n",
    "choosing a model \n",
    "\n",
    "### **Django Learning Dictation Log**\n",
    "\n",
    "\n",
    "So right now since I have chosen to use a single model for the framework, I'm having a problem with selecting what model I should choose. I know I had settled on people (users) where every record can have a person with a first name and last name, but then I think that's too simple.\n",
    "\n",
    "Another option is using other models. When I asked ChatGPT, it suggested models like **Products** (with a name, price, and inventory) and **Books** (with a name, author, and publication date). The books model is convenient because I want a dataset that allows me to perform multiple types of database manipulations, giving me a bigger learning base for Django ORM.\n",
    "\n",
    "I have an old dataset for books that I used a while back when playing around with Django. However, I got sidetracked and ended up learning Pandas instead. That’s another big problem I have—getting distracted by other technologies instead of sticking to Django. I start learning Django, get a dataset to manipulate, and then suddenly, I think, \"Let me see what Pandas can do with this dataset.\" Then I abandon Django and dive into Pandas, even though I don’t know it that well beyond basic commands like `read_csv()`.\n",
    "\n",
    "I'm going to try and work on avoiding distractions. Back to my main point: I have a dataset for books from Kaggle that is well documented, including ISBN, title, author, and even image links. That makes it a strong candidate for learning Django.\n",
    "\n",
    "However, I still feel conflicted and unsure about which model to choose. \n",
    "\n",
    "\n",
    "\n",
    "### **Django Learning Dictation Log - Dataset Management**\n",
    "\n",
    "**Date: [Insert Date]**\n",
    "\n",
    "After selecting my dataset for books and cleaning it, I discovered that the file size is around **74-75MB**. This is quite large and not ideal for storing in Git for version control.\n",
    "\n",
    "To manage this, I decided to **ignore the dataset** in Git and find alternative storage solutions. Possible methods include:\n",
    "- **Storing the file externally**, such as in Google Drive or another cloud service.\n",
    "- **Providing a download link** for anyone who needs the dataset instead of committing it directly to my repository.\n",
    "\n",
    "This approach ensures that my Git repository remains clean and efficient while still allowing access to the dataset when needed.\n",
    "\n",
    "\n",
    "\n",
    "\n"
   ]
  },
  {
   "cell_type": "code",
   "execution_count": null,
   "metadata": {
    "vscode": {
     "languageId": "plaintext"
    }
   },
   "outputs": [],
   "source": [
    "19/03/2025 16:47\n",
    "\n",
    "\n",
    "### **Git Staging Behavior - Learning Log**\n",
    "\n",
    "**Date: [Insert Date]**\n",
    "\n",
    "While working with Git, I learned an important detail about how files are staged. When using `git add`, Git **only stages files from the current working directory onwards**. This means:\n",
    "\n",
    "- If your Git repository is initialized at a **higher-level directory**, but you run `git add` inside a **subdirectory (child level)**, Git will **only track files from that level downward**.\n",
    "- It **will not** automatically stage files from parent directories or grandparent directories.\n",
    "- Previously, I thought `git add .` would **recursively add files from the root of the Git repository** regardless of where I ran the command. However, that’s **not the case**—it works only from the current working directory and below.\n",
    "\n",
    "This is important to keep in mind when managing files inside projects with deeply nested structures to avoid unintentionally missing files during staging and committing.\n",
    "\n"
   ]
  },
  {
   "cell_type": "code",
   "execution_count": null,
   "metadata": {
    "vscode": {
     "languageId": "plaintext"
    }
   },
   "outputs": [],
   "source": [
    "19/03/25 17:27\n",
    "\n",
    "### **Django Learning Log - Setting Up an App and URLs**\n",
    "\n",
    "**Date: [Insert Date]**\n",
    "\n",
    "#### **Creating and Registering a Django App**\n",
    "When creating an app in Django, you use the `python manage.py startapp [app_name]` command. After creating an app, it must be **registered** in the `INSTALLED_APPS` list inside the `settings.py` file of the main Django project. This ensures that Django recognizes the app as part of the project.\n",
    "\n",
    "Django follows a structured architecture where the **main project settings** are stored in a central folder. Each new app is created inside the project but remains independent unless explicitly connected. Registering the app in `INSTALLED_APPS` integrates it with the rest of the project.\n",
    "\n",
    "For my project, I created an app called **`bookkeeper`**, which will manage book records.\n",
    "\n",
    "#### **Creating a View and URL Configuration**\n",
    "Inside the `bookkeeper` app, I created a simple view to introduce users to the application. The view returns a basic response:\n",
    "\n",
    "```\n",
    "Hello from the Bookkeeper!\n",
    "```\n",
    "\n",
    "In Django, each app **does not automatically come with a `urls.py` file**. Developers must manually create it if the app will handle routes. This design choice allows Django to remain modular, as not every app necessarily serves front-end data.\n",
    "\n",
    "To define a URL for my view, I:\n",
    "1. **Created a `urls.py` file inside `bookkeeper`**.\n",
    "2. **Defined a URL pattern** that maps to the view.\n",
    "3. **Linked the app’s URLs to the central `urls.py` file** in the main project.\n",
    "\n",
    "#### **Modular URL Registration**\n",
    "Instead of defining all URLs in the main `urls.py` file, Django allows each app to manage its own URLs and then **include them in the central router**. This improves **modularity** and keeps the main URL configuration clean. For large projects with multiple apps and thousands of routes, this structure prevents unnecessary clutter and maintains readability.\n",
    "\n",
    "After completing these steps, my application is working smoothly. The view is rendering correctly, the URLs are registered, and everything is integrated properly within Django’s framework.\n",
    "\n"
   ]
  },
  {
   "cell_type": "code",
   "execution_count": null,
   "metadata": {
    "vscode": {
     "languageId": "plaintext"
    }
   },
   "outputs": [],
   "source": [
    "### **Django Learning Log - Working with Templates**\n",
    "\n",
    "**Date: [Insert Date]**\n",
    "\n",
    "#### **Understanding Django Templates**\n",
    "As I progressed in my Django learning journey, I explored **templates**, which are used to render HTML content dynamically. In Django, when returning content from a view, you can:\n",
    "- Use `HttpResponse` to send raw HTML directly from the view.\n",
    "- Use `render()` to return an HTML file from a **template**, which is a more structured approach.\n",
    "\n",
    "Using `HttpResponse` for full-page HTML content is not practical because it clutters the code. Instead, Django allows us to store HTML files separately in a **templates folder** within the app. Django is designed to **automatically look for a folder named `templates`** inside the app, making it easy to organize UI components.\n",
    "\n",
    "#### **Setting Up a Template in Django**\n",
    "1. **Create a `templates` folder inside the app directory**.\n",
    "2. **Add an HTML file inside it**, e.g., `welcome.html`.\n",
    "3. **Use Django’s template rendering system to return the file** in a view.\n",
    "\n",
    "This approach allows me to return structured HTML while leveraging Django’s power.\n",
    "\n",
    "#### **Dynamic Content in Templates**\n",
    "One powerful feature of Django templates is **Python logic integration**. For example, Django templates support **conditional rendering** using `if` statements. This means we can manipulate what is displayed dynamically based on context.\n",
    "\n",
    "Example:\n",
    "- If a `name` variable is provided, the template renders:\n",
    "  *“Welcome to the Bookkeeper, [Name]”*\n",
    "- If no name is passed, it defaults to:\n",
    "  *“Welcome to the Bookkeeper, Stranger”*\n",
    "\n",
    "This flexibility is what makes Django templates so powerful—it allows Python logic to directly influence web pages.\n",
    "\n",
    "I’m excited to explore **more advanced template rendering** as I continue learning Django!\n",
    "\n"
   ]
  }
 ],
 "metadata": {
  "language_info": {
   "name": "python"
  }
 },
 "nbformat": 4,
 "nbformat_minor": 2
}
